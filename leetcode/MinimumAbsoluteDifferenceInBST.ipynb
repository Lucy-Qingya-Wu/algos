{
 "cells": [
  {
   "cell_type": "code",
   "execution_count": null,
   "metadata": {},
   "outputs": [],
   "source": [
    "# Given a binary search tree with non-negative values, find the minimum absolute difference \n",
    "# between values of any two nodes.\n",
    "\n",
    "# Input:\n",
    "\n",
    "#    1\n",
    "#     \\\n",
    "#      3\n",
    "#     /\n",
    "#    2\n",
    "\n",
    "# Output:\n",
    "# 1\n",
    "\n",
    "# Explanation:\n",
    "# The minimum absolute difference is 1, which is the difference between 2 and 1 \n",
    "# (or between 2 and 3).\n",
    " "
   ]
  },
  {
   "cell_type": "code",
   "execution_count": 3,
   "metadata": {},
   "outputs": [],
   "source": [
    "# Definition for a binary tree node.\n",
    "# class TreeNode:\n",
    "#     def __init__(self, x):\n",
    "#         self.val = x\n",
    "#         self.left = None\n",
    "#         self.right = None\n",
    "\n",
    "class Solution:\n",
    "    def __init__(self):\n",
    "        self.list = []\n",
    "        \n",
    "    def getMinimumDifference(self, root: 'TreeNode'):\n",
    "        self.append_node_to_list(root)\n",
    "        result = float('inf')\n",
    "        for i in range(1, len(self.list)):\n",
    "            if abs(self.list[i] - self.list[i-1]) < result:\n",
    "                result = abs(self.list[i] - self.list[i-1])\n",
    "        return result  \n",
    "        \n",
    "    def append_node_to_list(self, root):\n",
    "        if root is None:\n",
    "            return\n",
    "        \n",
    "        if root.left:\n",
    "            self.append_node_to_list(root.left)\n",
    "        self.list.append(root.val)\n",
    "        if root.right:\n",
    "            self.append_node_to_list(root.right)"
   ]
  },
  {
   "cell_type": "code",
   "execution_count": 4,
   "metadata": {},
   "outputs": [],
   "source": [
    "n1 = TreeNode(1)\n",
    "n2 = TreeNode(2)\n",
    "n3 = TreeNode(3)\n",
    "n1.right = n3\n",
    "n3.left = n2"
   ]
  },
  {
   "cell_type": "code",
   "execution_count": 5,
   "metadata": {},
   "outputs": [
    {
     "data": {
      "text/plain": [
       "1"
      ]
     },
     "execution_count": 5,
     "metadata": {},
     "output_type": "execute_result"
    }
   ],
   "source": [
    "s = Solution()\n",
    "s.getMinimumDifference(n1)"
   ]
  }
 ],
 "metadata": {
  "kernelspec": {
   "display_name": "Python 3",
   "language": "python",
   "name": "python3"
  },
  "language_info": {
   "codemirror_mode": {
    "name": "ipython",
    "version": 3
   },
   "file_extension": ".py",
   "mimetype": "text/x-python",
   "name": "python",
   "nbconvert_exporter": "python",
   "pygments_lexer": "ipython3",
   "version": "3.7.1"
  }
 },
 "nbformat": 4,
 "nbformat_minor": 2
}
