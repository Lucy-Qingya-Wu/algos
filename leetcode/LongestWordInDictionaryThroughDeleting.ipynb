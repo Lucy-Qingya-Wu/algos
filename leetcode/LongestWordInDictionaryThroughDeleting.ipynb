{
 "cells": [
  {
   "cell_type": "code",
   "execution_count": 2,
   "metadata": {},
   "outputs": [],
   "source": [
    "#Given a string and a string dictionary, find the longest string in the dictionary that can be formed by deleting some characters of the given string. If there are more \n",
    "#than one possible results, return the longest word with the smallest lexicographical \n",
    "#order. If there is no possible result, return the empty string.\n",
    "\n",
    "\n",
    "# Input:\n",
    "# s = \"abpcplea\", d = [\"ale\",\"apple\",\"monkey\",\"plea\"]\n",
    "\n",
    "# Output: \n",
    "# \"apple\"\n",
    "\n",
    "\n",
    "# Input:\n",
    "# s = \"abpcplea\", d = [\"a\",\"b\",\"c\"]\n",
    "\n",
    "# Output: \n",
    "# \"a\"\n",
    "\n"
   ]
  },
  {
   "cell_type": "code",
   "execution_count": 3,
   "metadata": {},
   "outputs": [],
   "source": [
    "class Solution:\n",
    "    def check_if_match(self, st1_to_delete, str2):\n",
    "        \n",
    "        if len(st1_to_delete) < len(str2):\n",
    "            return False\n",
    "        if len(st1_to_delete) == len(str2) and st1_to_delete == str2:\n",
    "            return True\n",
    "        \n",
    "        m = 0\n",
    "        n = 0\n",
    "        while m < len(str2) and n < len(st1_to_delete):\n",
    "            if str2[m] == st1_to_delete[n]:\n",
    "                m +=1\n",
    "                n +=1\n",
    "            else:\n",
    "                n +=1\n",
    "        return m == len(str2)\n",
    "            \n",
    "            \n",
    "            \n",
    "        \n",
    "    def findLongestWord(self, s: 'str', d: 'List[str]') -> 'str':\n",
    "        longest = 0\n",
    "        longest_word = ''\n",
    "        for word in d:\n",
    "            if len(word) >= len(longest_word):\n",
    "                if len(word) == len(longest_word) and word > longest_word:\n",
    "                    continue\n",
    "                else:\n",
    "                    \n",
    "                    if self.check_if_match(s, word):\n",
    "                        longest = len(word)\n",
    "                        longest_word = word\n",
    "        return longest_word"
   ]
  },
  {
   "cell_type": "code",
   "execution_count": 4,
   "metadata": {},
   "outputs": [
    {
     "name": "stdout",
     "output_type": "stream",
     "text": [
      "ab\n"
     ]
    }
   ],
   "source": [
    "sol = Solution()\n",
    "s = \"bab\"\n",
    "d = [\"ba\",\"ab\",\"a\",\"b\"]\n",
    "print(sol.findLongestWord(s, d))"
   ]
  }
 ],
 "metadata": {
  "kernelspec": {
   "display_name": "Python 3",
   "language": "python",
   "name": "python3"
  },
  "language_info": {
   "codemirror_mode": {
    "name": "ipython",
    "version": 3
   },
   "file_extension": ".py",
   "mimetype": "text/x-python",
   "name": "python",
   "nbconvert_exporter": "python",
   "pygments_lexer": "ipython3",
   "version": "3.7.1"
  }
 },
 "nbformat": 4,
 "nbformat_minor": 2
}
