{
 "cells": [
  {
   "cell_type": "code",
   "execution_count": 2,
   "metadata": {},
   "outputs": [],
   "source": [
    "#Given a list of non-negative numbers and a target integer k, \n",
    "#write a function to check if the array has a continuous subarray \n",
    "#of size at least 2 that sums up to the multiple of k, that is, \n",
    "#sums up to n*k where n is also an integer.\n",
    "\n",
    "# Input: [23, 2, 4, 6, 7],  k=6\n",
    "# Output: True\n",
    "# Explanation: Because [2, 4] is a continuous subarray of size 2 and sums up to 6.\n",
    "\n",
    "# Input: [23, 2, 6, 4, 7],  k=6\n",
    "# Output: True\n",
    "# Explanation: Because [23, 2, 6, 4, 7] is an continuous subarray of size 5 and sums up to 42."
   ]
  },
  {
   "cell_type": "code",
   "execution_count": 3,
   "metadata": {},
   "outputs": [],
   "source": [
    "class Solution:\n",
    "    def checkSubarraySum(self, nums: 'List[int]', k: 'int') -> 'bool':\n",
    "       \n",
    "        dictionary = {}\n",
    "        total = 0\n",
    "\n",
    "        for i in range(len(nums)):\n",
    "            num = nums[i]\n",
    "            total += num\n",
    "            \n",
    "            if total == k and i > 0:\n",
    "                return True\n",
    "            \n",
    "            if total == k and k == 0:\n",
    "                if 0 in dictionary:\n",
    "                    return True\n",
    "                else:\n",
    "                    dictionary[0] = i\n",
    "                    continue\n",
    "            \n",
    "            \n",
    "            if k == 0:\n",
    "                continue\n",
    "            if total%k in dictionary:\n",
    "                return True\n",
    "            \n",
    "            dictionary[total%k] = i\n",
    "        return False"
   ]
  },
  {
   "cell_type": "code",
   "execution_count": 4,
   "metadata": {},
   "outputs": [
    {
     "name": "stdout",
     "output_type": "stream",
     "text": [
      "True\n"
     ]
    }
   ],
   "source": [
    "s = Solution()\n",
    "nums = [6, 4, 9, 14, 13]\n",
    "k = 12\n",
    "print(s.checkSubarraySum(nums, k))"
   ]
  }
 ],
 "metadata": {
  "kernelspec": {
   "display_name": "Python 3",
   "language": "python",
   "name": "python3"
  },
  "language_info": {
   "codemirror_mode": {
    "name": "ipython",
    "version": 3
   },
   "file_extension": ".py",
   "mimetype": "text/x-python",
   "name": "python",
   "nbconvert_exporter": "python",
   "pygments_lexer": "ipython3",
   "version": "3.7.1"
  }
 },
 "nbformat": 4,
 "nbformat_minor": 2
}
