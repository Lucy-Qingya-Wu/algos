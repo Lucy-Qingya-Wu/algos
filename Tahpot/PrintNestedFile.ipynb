{
 "cells": [
  {
   "cell_type": "code",
   "execution_count": 28,
   "metadata": {},
   "outputs": [],
   "source": [
    "#Given s list of N folders and assignments, print all materials but also in such a fashion \n",
    "#that assignments inside folders appear immediately after their folder's name in the list.\n",
    "#Assignments under the folders should be indented with a hypher.\n",
    "\n",
    "#input\n",
    "# entry_array = [\n",
    "# {\"id\": 1, \"name\": \"US History\", \"parent_id\": None},\n",
    "# {\"id\": 2, \"name\": \"Third Assignment\", \"parent_id\": 3},\n",
    "# {\"id\": 3, \"name\": \"First Chapter\", \"parent_id\": 1},\n",
    "# {\"id\": 4, \"name\": \"Second Assignment\", \"parent_id\": 1},\n",
    "# {\"id\": 5, \"name\": \"First Assignment\", \"parent_id\": 6},\n",
    "# {\"id\": 6, \"name\": \"Canadian History\", \"parent_id\": None},\n",
    "# ]\n",
    "\n",
    "#output\n",
    "# US History\n",
    "# -First Chapter\n",
    "# --Third Assignment\n",
    "# -Second Assignment\n",
    "# Canadian History\n",
    "# -First Assignment\n",
    "\n",
    "def build_dict(entry_array):\n",
    "    dictionary = {}\n",
    "    \n",
    "    for entry in entry_array:\n",
    "        parent_id = entry[\"parent_id\"]\n",
    "        if parent_id is None:\n",
    "            \n",
    "            entry_id = entry[\"id\"]\n",
    "            \n",
    "            if entry_id not in dictionary:\n",
    "                dictionary[entry_id] = {children:[], root:True}\n",
    "        \n",
    "        else:\n",
    "            entry_id = entry[\"id\"]\n",
    "            if parent_id not in dictionary:\n",
    "                dictionary[parent_id] = {children:[entry_id], root:False}\n",
    "    \n",
    "            \n",
    "            else:\n",
    "                dictionary[parent_id].children.append(entry_id)\n",
    "        \n",
    "            if entry_id not in dictionary:\n",
    "                dictionary[entry_id] = []\n",
    "    \n",
    "    return dictionary\n",
    "\n",
    "\n",
    "            \n",
    "def print_files(dictionary):\n",
    "    \n",
    "    for key in dictionary:\n",
    "        if dictionary[key] == []:\n",
    "            print()\n",
    "        \n",
    "        \n",
    "    "
   ]
  },
  {
   "cell_type": "code",
   "execution_count": 29,
   "metadata": {},
   "outputs": [
    {
     "name": "stdout",
     "output_type": "stream",
     "text": [
      "{1: [3, 4], 3: [2], 2: [], 4: [], 6: [5], 5: []}\n"
     ]
    }
   ],
   "source": [
    "print(build_dict(entry_array))"
   ]
  },
  {
   "cell_type": "code",
   "execution_count": 10,
   "metadata": {},
   "outputs": [
    {
     "name": "stdout",
     "output_type": "stream",
     "text": [
      "2\n"
     ]
    }
   ],
   "source": [
    "nn= {\"a\":1, \"b\":2}\n",
    "if \"c\" in nn:\n",
    "    print(\"1\")\n",
    "else:\n",
    "    print(\"2\")"
   ]
  },
  {
   "cell_type": "code",
   "execution_count": null,
   "metadata": {},
   "outputs": [],
   "source": []
  }
 ],
 "metadata": {
  "kernelspec": {
   "display_name": "Python 3",
   "language": "python",
   "name": "python3"
  },
  "language_info": {
   "codemirror_mode": {
    "name": "ipython",
    "version": 3
   },
   "file_extension": ".py",
   "mimetype": "text/x-python",
   "name": "python",
   "nbconvert_exporter": "python",
   "pygments_lexer": "ipython3",
   "version": "3.7.1"
  }
 },
 "nbformat": 4,
 "nbformat_minor": 2
}
