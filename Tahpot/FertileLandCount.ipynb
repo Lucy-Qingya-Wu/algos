{
 "cells": [
  {
   "cell_type": "code",
   "execution_count": 5,
   "metadata": {},
   "outputs": [],
   "source": [
    "def valid_index(index, rows, cols):\n",
    "    row, col = index\n",
    "    return row >= 0 and row < rows and col >= 0 and col < cols\n",
    "\n",
    "def count_fertile_land(matrix):\n",
    "    tree_number = 1\n",
    "    \n",
    "    total = 0 \n",
    "    \n",
    "    rows = len(matrix)\n",
    "    cols = len(matrix[0])\n",
    "    \n",
    "    row = 0\n",
    "    while row < rows:\n",
    "        col = 0\n",
    "        while col < cols:\n",
    "            if matrix[row][col]:\n",
    "                top_field_value = matrix[row-1][col] if valid_index((row-1, col), rows, cols) else 0\n",
    "                left_field_value = matrix[row][col+1] if valid_index((row, col+1), rows, cols) else 0\n",
    "                \n",
    "                if top_field_value > 0 and left_field_value > 0:\n",
    "                    if top_field_value == left_field_value:\n",
    "                        matrix[row][col] = top_field_value\n",
    "                    else:\n",
    "                        matrix[row][col] = left_field_value \n",
    "                        top_original_value = matrix[row-1][col]\n",
    "                        matrix[row-1][col] = left_field_value \n",
    "                        \n",
    "                        check = col+1\n",
    "                        while check < cols and valid_index((row-1, check), rows, cols) and (matrix[row-1][check] == top_original_value):\n",
    "                            matrix[row-1][check] = matrix[row-1][check-1]\n",
    "                        total -= 1\n",
    "                elif top_field_value == 0 and left_field_value == 0:\n",
    "                    tree_number += 1\n",
    "                    matrix[row][col] = tree_number\n",
    "                    total += 1\n",
    "                else:\n",
    "                    matrix[row][col] = top_field_value if top_field_value > 0 else left_field_value\n",
    "            else:\n",
    "                matrix[row][col] = 0\n",
    "\n",
    "            col += 1\n",
    "        row += 1\n",
    "    return total\n",
    "\n"
   ]
  },
  {
   "cell_type": "code",
   "execution_count": 6,
   "metadata": {},
   "outputs": [
    {
     "name": "stdout",
     "output_type": "stream",
     "text": [
      "3\n"
     ]
    }
   ],
   "source": [
    "matrix = [\n",
    "[1, 0, 0, 1, 0, 1],    \n",
    "[1, 0, 0, 1, 0, 1],\n",
    "[1, 0, 0, 1, 0, 1],\n",
    "[0, 1, 1, 1, 0, 1] \n",
    "]\n",
    "\n",
    "print(count_fertile_land(matrix))"
   ]
  }
 ],
 "metadata": {
  "kernelspec": {
   "display_name": "Python 3",
   "language": "python",
   "name": "python3"
  },
  "language_info": {
   "codemirror_mode": {
    "name": "ipython",
    "version": 3
   },
   "file_extension": ".py",
   "mimetype": "text/x-python",
   "name": "python",
   "nbconvert_exporter": "python",
   "pygments_lexer": "ipython3",
   "version": "3.7.1"
  }
 },
 "nbformat": 4,
 "nbformat_minor": 2
}
