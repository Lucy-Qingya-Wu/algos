{
 "cells": [
  {
   "cell_type": "code",
   "execution_count": 5,
   "metadata": {},
   "outputs": [],
   "source": [
    "#Assume character set is ASCII and space is significant and the comparison is case-sensitive, \n",
    "#which means both check_permutation(\"dog\", \"god \") and check_permutation(\"dog\", \"Dog\") return false \n",
    "#space complexity O(1), running time O(n)\n",
    "def check_permutation(string1, string2):\n",
    "    \n",
    "    check_list = [0] * 128\n",
    "    \n",
    "    if len(string1) != len(string2):\n",
    "        return False\n",
    "    \n",
    "    for char in string1:\n",
    "        index = ord(char)\n",
    "        check_list[index] += 1\n",
    "    \n",
    "    for char in string2: \n",
    "        index = ord(char)\n",
    "        check_list[index] -= 1\n",
    "        if check_list[index] < 0:\n",
    "            return False\n",
    "    return True\n",
    "        "
   ]
  },
  {
   "cell_type": "code",
   "execution_count": 6,
   "metadata": {},
   "outputs": [
    {
     "name": "stdout",
     "output_type": "stream",
     "text": [
      "True\n",
      "False\n",
      "True\n",
      "False\n",
      "True\n",
      "False\n"
     ]
    }
   ],
   "source": [
    "print(check_permutation(\"\", \"\")) #true\n",
    "print(check_permutation(\"dog\", \"god \")) #false\n",
    "print(check_permutation(\"dog \", \"god \")) #true\n",
    "print(check_permutation(\"a\", \"\")) #false\n",
    "print(check_permutation(\"ab\", \"ba\")) #true\n",
    "print(check_permutation(\"ab\", \"bc\")) #false"
   ]
  }
 ],
 "metadata": {
  "kernelspec": {
   "display_name": "Python 3",
   "language": "python",
   "name": "python3"
  },
  "language_info": {
   "codemirror_mode": {
    "name": "ipython",
    "version": 3
   },
   "file_extension": ".py",
   "mimetype": "text/x-python",
   "name": "python",
   "nbconvert_exporter": "python",
   "pygments_lexer": "ipython3",
   "version": "3.7.1"
  }
 },
 "nbformat": 4,
 "nbformat_minor": 2
}
