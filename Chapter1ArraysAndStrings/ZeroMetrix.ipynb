{
 "cells": [
  {
   "cell_type": "code",
   "execution_count": 1,
   "metadata": {},
   "outputs": [],
   "source": [
    "#running time O(n)\n",
    "def zero_matrix(matrix):\n",
    "    rows = len(matrix)\n",
    "    cols = len(matrix[0])\n",
    "    \n",
    "    left_top_corner_zero = matrix[0][0] == 0\n",
    "    \n",
    "    first_row_zero = False\n",
    "    first_col_zero = False\n",
    "    \n",
    "    if left_top_corner_zero:\n",
    "        first_row_zero = True\n",
    "        first_col_zero = True\n",
    "        \n",
    "    else:\n",
    "        \n",
    "        if check_row_contain_zero(matrix, 0):\n",
    "            first_row_zero = True\n",
    "            \n",
    "        if check_col_contain_zero(matrix, 0, rows):\n",
    "            first_col_zero = True\n",
    "            \n",
    "    for row in range(1, rows):\n",
    "        if check_row_contain_zero(matrix, row):\n",
    "            matrix[row][0] = 0\n",
    "\n",
    "    for col in range(1, cols):\n",
    "        if check_col_contain_zero(matrix, col, rows):\n",
    "            matrix[0][col] = 0\n",
    "\n",
    "    for row in range(1, rows):\n",
    "        if matrix[row][0] == 0:\n",
    "            replace_row(matrix, row, cols)\n",
    "\n",
    "    for col in range(1, cols):\n",
    "        if matrix[0][col] == 0:\n",
    "            replace_col(matrix, col, rows)\n",
    "\n",
    "    if first_row_zero:\n",
    "        replace_row(matrix, 0, cols)\n",
    "\n",
    "    if first_col_zero:\n",
    "        replace_col(matrix, 0, rows)\n",
    "\n"
   ]
  },
  {
   "cell_type": "code",
   "execution_count": 2,
   "metadata": {},
   "outputs": [],
   "source": [
    "def check_row_contain_zero(matrix, row_num):\n",
    "    return 0 in matrix[row_num]"
   ]
  },
  {
   "cell_type": "code",
   "execution_count": 3,
   "metadata": {},
   "outputs": [],
   "source": [
    "def check_col_contain_zero(matrix, col_num, rows):\n",
    "    j = 0\n",
    "    while j < rows:\n",
    "        if matrix[j][col_num] == 0:\n",
    "            return True\n",
    "        j += 1\n",
    "    return False"
   ]
  },
  {
   "cell_type": "code",
   "execution_count": 4,
   "metadata": {},
   "outputs": [],
   "source": [
    "def replace_row(matrix, row_num, cols):\n",
    "    matrix[row_num] = [0] * cols"
   ]
  },
  {
   "cell_type": "code",
   "execution_count": 5,
   "metadata": {},
   "outputs": [],
   "source": [
    "def replace_col(matrix, col_num, rows):\n",
    "    for i in range(1, rows):\n",
    "        matrix[i][col_num] = 0"
   ]
  },
  {
   "cell_type": "code",
   "execution_count": 6,
   "metadata": {},
   "outputs": [
    {
     "name": "stdout",
     "output_type": "stream",
     "text": [
      "[0, 0, 0, 0, 0]\n",
      "[0, 0, 0, 0, 0]\n",
      "[11, 0, 13, 14, 0]\n",
      "[0, 0, 0, 0, 0]\n",
      "[21, 0, 23, 24, 0]\n"
     ]
    }
   ],
   "source": [
    "m = [\n",
    "[1, 2, 3, 4, 0],\n",
    "[6, 0, 8, 9, 10],\n",
    "[11, 12, 13, 14, 15],\n",
    "[16, 0, 18, 19, 20],\n",
    "[21, 22, 23, 24, 25]\n",
    "]\n",
    "zero_matrix(m)\n",
    "for row in m:\n",
    "    print(row)"
   ]
  }
 ],
 "metadata": {
  "kernelspec": {
   "display_name": "Python 3",
   "language": "python",
   "name": "python3"
  },
  "language_info": {
   "codemirror_mode": {
    "name": "ipython",
    "version": 3
   },
   "file_extension": ".py",
   "mimetype": "text/x-python",
   "name": "python",
   "nbconvert_exporter": "python",
   "pygments_lexer": "ipython3",
   "version": "3.7.1"
  }
 },
 "nbformat": 4,
 "nbformat_minor": 2
}
