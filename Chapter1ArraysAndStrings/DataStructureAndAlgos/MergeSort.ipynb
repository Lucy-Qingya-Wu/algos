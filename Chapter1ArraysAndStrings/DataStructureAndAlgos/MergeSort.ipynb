{
 "cells": [
  {
   "cell_type": "code",
   "execution_count": 1,
   "metadata": {},
   "outputs": [],
   "source": [
    "#running time O(nlog(n)), space complexity O(n)\n",
    "def mergesort(array):\n",
    "    mergesort_helper(array, 0, len(array)-1)\n",
    "\n",
    "def mergesort_helper(array, start, end):\n",
    "    if start >= end:\n",
    "        return \n",
    "    \n",
    "    middle = (start + end) // 2\n",
    "    \n",
    "    mergesort_helper(array, start, middle)\n",
    "    \n",
    "    mergesort_helper(array, middle+1, end)\n",
    "    \n",
    "    merge(array, start, end)\n",
    "    \n",
    "\n",
    "\n",
    "def merge(array, start, end):\n",
    "    \n",
    "    middle = (start + end) // 2\n",
    "    \n",
    "    \n",
    "    L = array[start:middle+1]\n",
    "    R = array[middle+1:end+1]\n",
    "    \n",
    "    index = start\n",
    "    \n",
    "    l = 0\n",
    "    r = 0\n",
    "    \n",
    "    while l<len(L) and r<len(R):\n",
    "        if L[l] <= R[r]:\n",
    "            array[index] = L[l] \n",
    "            l+=1\n",
    "        else:\n",
    "            array[index] = R[r]\n",
    "            r+=1\n",
    "        index += 1\n",
    "        \n",
    "    while l <len(L):\n",
    "        array[index] = L[l] \n",
    "        index += 1\n",
    "        l+=1\n",
    "    \n",
    "    while r < len(R):\n",
    "        array[index] = R[r]\n",
    "        index += 1\n",
    "        r+=1\n",
    "    return array\n",
    "\n"
   ]
  },
  {
   "cell_type": "code",
   "execution_count": 2,
   "metadata": {},
   "outputs": [
    {
     "name": "stdout",
     "output_type": "stream",
     "text": [
      "[0, 1, 2, 3, 4, 6, 7]\n"
     ]
    }
   ],
   "source": [
    "array = [3, 1, 4, 2, 6, 7, 0]\n",
    "mergesort(array)\n",
    "print(array)"
   ]
  }
 ],
 "metadata": {
  "kernelspec": {
   "display_name": "Python 3",
   "language": "python",
   "name": "python3"
  },
  "language_info": {
   "codemirror_mode": {
    "name": "ipython",
    "version": 3
   },
   "file_extension": ".py",
   "mimetype": "text/x-python",
   "name": "python",
   "nbconvert_exporter": "python",
   "pygments_lexer": "ipython3",
   "version": "3.7.1"
  }
 },
 "nbformat": 4,
 "nbformat_minor": 2
}
