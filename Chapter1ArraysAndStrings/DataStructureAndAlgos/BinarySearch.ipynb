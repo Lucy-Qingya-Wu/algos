{
 "cells": [
  {
   "cell_type": "code",
   "execution_count": 5,
   "metadata": {},
   "outputs": [],
   "source": [
    "#binary search on a sorted list\n",
    "def binary_search(array, num):\n",
    "    return binary_search_helper(array, num, 0, len(array) - 1)\n",
    "\n",
    "def binary_search_helper(array, num, start, end):\n",
    "    if start > end:\n",
    "        return False\n",
    "    \n",
    "    if start == end:\n",
    "        return array[start] == num\n",
    "    \n",
    "    middle = (start + end) // 2\n",
    "\n",
    "    if num == array[middle]:\n",
    "        return True\n",
    "    \n",
    "    elif num < array[middle]:\n",
    "        return binary_search_helper(array, num, start, middle-1)\n",
    "    \n",
    "    else:\n",
    "        return binary_search_helper(array, num, middle+1, end)\n",
    "\n"
   ]
  },
  {
   "cell_type": "code",
   "execution_count": 14,
   "metadata": {},
   "outputs": [
    {
     "name": "stdout",
     "output_type": "stream",
     "text": [
      "False\n"
     ]
    }
   ],
   "source": [
    "array = [1, 2, 3, 5, 7, 8]\n",
    "print(binary_search(array, 4))"
   ]
  },
  {
   "cell_type": "code",
   "execution_count": 13,
   "metadata": {},
   "outputs": [
    {
     "name": "stdout",
     "output_type": "stream",
     "text": [
      "True\n"
     ]
    }
   ],
   "source": [
    "array = [0, 1, 2, 3, 5, 7]\n",
    "print(binary_search(array, 0))"
   ]
  }
 ],
 "metadata": {
  "kernelspec": {
   "display_name": "Python 3",
   "language": "python",
   "name": "python3"
  },
  "language_info": {
   "codemirror_mode": {
    "name": "ipython",
    "version": 3
   },
   "file_extension": ".py",
   "mimetype": "text/x-python",
   "name": "python",
   "nbconvert_exporter": "python",
   "pygments_lexer": "ipython3",
   "version": "3.7.1"
  }
 },
 "nbformat": 4,
 "nbformat_minor": 2
}
