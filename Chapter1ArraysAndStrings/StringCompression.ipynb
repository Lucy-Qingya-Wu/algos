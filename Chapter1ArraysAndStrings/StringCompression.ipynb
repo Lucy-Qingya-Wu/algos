{
 "cells": [
  {
   "cell_type": "code",
   "execution_count": 3,
   "metadata": {},
   "outputs": [],
   "source": [
    "def string_compression(string):\n",
    "    if len(string) == 0:\n",
    "        return string\n",
    "    else:\n",
    "        count = 0\n",
    "        letter = string[0]\n",
    "        array = []\n",
    "        \n",
    "        i = 0\n",
    "        while i < len(string):\n",
    "            if string[i] == letter:\n",
    "                count += 1\n",
    "            else:\n",
    "                array.append(letter+str(count))\n",
    "                count = 1\n",
    "                letter = string[i]\n",
    "            i += 1\n",
    "        array.append(letter+str(count))\n",
    "        \n",
    "        result = ''.join(array)\n",
    "        return result if len(result) < len(string) else string"
   ]
  },
  {
   "cell_type": "code",
   "execution_count": 4,
   "metadata": {},
   "outputs": [
    {
     "name": "stdout",
     "output_type": "stream",
     "text": [
      "\n",
      "aa\n",
      "a3\n",
      "ab\n",
      "a3b4\n"
     ]
    }
   ],
   "source": [
    "print(string_compression(\"\")) #\"\"\n",
    "print(string_compression(\"aa\")) #\"aa\"\n",
    "print(string_compression(\"aaa\")) #\"a3\"\n",
    "print(string_compression(\"ab\")) #\"ab\"\n",
    "print(string_compression(\"aaabbbb\")) #\"a3b4\""
   ]
  }
 ],
 "metadata": {
  "kernelspec": {
   "display_name": "Python 3",
   "language": "python",
   "name": "python3"
  },
  "language_info": {
   "codemirror_mode": {
    "name": "ipython",
    "version": 3
   },
   "file_extension": ".py",
   "mimetype": "text/x-python",
   "name": "python",
   "nbconvert_exporter": "python",
   "pygments_lexer": "ipython3",
   "version": "3.7.1"
  }
 },
 "nbformat": 4,
 "nbformat_minor": 2
}
