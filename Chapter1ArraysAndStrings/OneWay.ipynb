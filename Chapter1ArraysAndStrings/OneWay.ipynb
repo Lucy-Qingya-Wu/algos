{
 "cells": [
  {
   "cell_type": "code",
   "execution_count": 5,
   "metadata": {},
   "outputs": [],
   "source": [
    "#running time O(n)\n",
    "def one_way(string1, string2):\n",
    "    if abs(len(string1) - len(string2)) > 1:\n",
    "        return False\n",
    "    if len(string1) == len(string2):\n",
    "        return check_replace(string1, string2)\n",
    "    else:\n",
    "        longer_one = string1 if len(string1) > len(string2) else string2\n",
    "        shorter_one = string2 if longer_one == string1 else string1\n",
    "        \n",
    "        return check_insert(longer_one, shorter_one)\n",
    "\n",
    "def check_replace(string1, string2):\n",
    "    if len(string1) == 0:\n",
    "        return True\n",
    "    \n",
    "    count = 0\n",
    "    i = 0\n",
    "    j = 0\n",
    "    \n",
    "    while i < len(string1):\n",
    "        if string1[i] != string2[j]:\n",
    "            if count == 1:\n",
    "                return False\n",
    "            else:\n",
    "                count += 1\n",
    "        i += 1\n",
    "        j += 1\n",
    "    return True\n",
    "\n",
    "def check_insert(longer_one, shorter_one):\n",
    "    i = 0\n",
    "    j = 0\n",
    "    count = 0\n",
    "    \n",
    "    while i < len(shorter_one):\n",
    "        if shorter_one[i] != longer_one[j]:\n",
    "            if count == 1:\n",
    "                return False\n",
    "            else:\n",
    "                count += 1\n",
    "                j += 1\n",
    "            \n",
    "        else:\n",
    "            i += 1\n",
    "            j += 1\n",
    "    if j < len(longer_one) and count > 0:\n",
    "        return False\n",
    "    return True\n",
    "    "
   ]
  },
  {
   "cell_type": "code",
   "execution_count": 8,
   "metadata": {},
   "outputs": [
    {
     "name": "stdout",
     "output_type": "stream",
     "text": [
      "True\n",
      "True\n",
      "False\n",
      "False\n",
      "True\n",
      "False\n"
     ]
    }
   ],
   "source": [
    "print(one_way(\"\", \"\")) #true\n",
    "print(one_way(\"a\", \"\")) #true\n",
    "print(one_way(\"ab\", \"\")) #false\n",
    "print(one_way(\"abc\", \"azz\")) #false\n",
    "print(one_way(\"abc\", \"abcd\")) #true\n",
    "print(one_way(\"abc\", \"acxc\")) #false"
   ]
  }
 ],
 "metadata": {
  "kernelspec": {
   "display_name": "Python 3",
   "language": "python",
   "name": "python3"
  },
  "language_info": {
   "codemirror_mode": {
    "name": "ipython",
    "version": 3
   },
   "file_extension": ".py",
   "mimetype": "text/x-python",
   "name": "python",
   "nbconvert_exporter": "python",
   "pygments_lexer": "ipython3",
   "version": "3.7.1"
  }
 },
 "nbformat": 4,
 "nbformat_minor": 2
}
