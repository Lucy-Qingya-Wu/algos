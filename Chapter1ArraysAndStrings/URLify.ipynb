{
 "cells": [
  {
   "cell_type": "code",
   "execution_count": 4,
   "metadata": {},
   "outputs": [],
   "source": [
    "def urlify(string, length):\n",
    "    count = 0\n",
    "    i = 0\n",
    "    while i < length:\n",
    "        char = string[i]\n",
    "        if char == \" \":\n",
    "            count += 1\n",
    "        i += 1\n",
    "        \n",
    "    if count == 0:\n",
    "        return string\n",
    "    \n",
    "    else:\n",
    "        des_index = count * 2 + length - 1\n",
    "        array = [\"\"] * (des_index + 1)\n",
    "       \n",
    "        i = length\n",
    "        while i > 0:\n",
    "            char = string[i-1]\n",
    "            if char != \" \":\n",
    "                array[des_index] = char\n",
    "                des_index -= 1\n",
    "            else:\n",
    "                array[des_index] = \"0\"\n",
    "                array[des_index-1] = \"2\"\n",
    "                array[des_index-2] = \"%\"\n",
    "                des_index -= 3\n",
    "            i -= 1\n",
    "        return \"\".join(array)"
   ]
  },
  {
   "cell_type": "code",
   "execution_count": 5,
   "metadata": {},
   "outputs": [
    {
     "name": "stdout",
     "output_type": "stream",
     "text": [
      "\n"
     ]
    }
   ],
   "source": [
    "print(urlify(\"\", 0)) #\"\""
   ]
  },
  {
   "cell_type": "code",
   "execution_count": 6,
   "metadata": {},
   "outputs": [
    {
     "name": "stdout",
     "output_type": "stream",
     "text": [
      "a%20b\n"
     ]
    }
   ],
   "source": [
    "result = urlify(\"a b   \", 3) #\" a%20b\"\n",
    "print(result)"
   ]
  }
 ],
 "metadata": {
  "kernelspec": {
   "display_name": "Python 3",
   "language": "python",
   "name": "python3"
  },
  "language_info": {
   "codemirror_mode": {
    "name": "ipython",
    "version": 3
   },
   "file_extension": ".py",
   "mimetype": "text/x-python",
   "name": "python",
   "nbconvert_exporter": "python",
   "pygments_lexer": "ipython3",
   "version": "3.7.1"
  }
 },
 "nbformat": 4,
 "nbformat_minor": 2
}
