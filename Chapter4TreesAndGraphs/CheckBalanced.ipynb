{
 "cells": [
  {
   "cell_type": "code",
   "execution_count": 8,
   "metadata": {},
   "outputs": [],
   "source": [
    "#running time: O(n), space complexity: O(h), h is the height of the tree\n",
    "def check_balanced(root):\n",
    "    result = get_height(root)\n",
    "    return result != -2\n",
    "\n",
    "def get_height(node):\n",
    "    if node is None:\n",
    "        return -1\n",
    "    \n",
    "    right_child_height = get_height(node.right)\n",
    "    if right_child_height == -2:\n",
    "        return -2\n",
    "    \n",
    "    left_child_height = get_height(node.left)\n",
    "    if left_child_height == -2:\n",
    "        return -2\n",
    "    \n",
    "    if abs(right_child_height - left_child_height) > 1:\n",
    "        return -2\n",
    "    \n",
    "    return max(left_child_height, right_child_height) + 1"
   ]
  },
  {
   "cell_type": "code",
   "execution_count": 9,
   "metadata": {},
   "outputs": [],
   "source": [
    "class Node:\n",
    "    def __init__(self, value):\n",
    "        self.left = None\n",
    "        self.right = None\n",
    "        self.value = value\n",
    "        self.parent = None\n",
    "        \n",
    "#Duplicates are excluded        \n",
    "class BST:\n",
    "    def __init__(self):\n",
    "        self.root = None\n",
    "    \n",
    "    def insert(self, value):\n",
    "        new_node = Node(value)\n",
    "        if self.root is None:\n",
    "            self.root = new_node\n",
    "        else:\n",
    "            node = self.root\n",
    "            while node:\n",
    "                if value < node.value:\n",
    "                    if node.left is not None:\n",
    "                        node = node.left\n",
    "                    else:\n",
    "                        node.left = new_node\n",
    "                        new_node.parent = node\n",
    "                        break\n",
    "                else:\n",
    "                    if node.right is not None:\n",
    "                        node = node.right\n",
    "                    else:\n",
    "                        node.right = new_node\n",
    "                        new_node.parent = node\n",
    "                        break\n",
    "    \n",
    "    def print_tree(self):\n",
    "        if self.root == None:\n",
    "            print(\"BST is empty\")\n",
    "        else:\n",
    "            self._print_tree(self.root, 1)\n",
    "            \n",
    "    def _print_tree(self, node, number_of_space):\n",
    "        if node.right is not None:\n",
    "            self._print_tree(node.right, number_of_space+2)\n",
    "        if node.parent:\n",
    "            print(\" \" * number_of_space + str(node.value) + \"(\" + str(node.parent.value) + \")\")\n",
    "        else:\n",
    "            print(\" \" * number_of_space + str(node.value))\n",
    "        \n",
    "        if node.left is not None:\n",
    "            self._print_tree(node.left, number_of_space+2)\n",
    "    \n",
    "    def delete_node(self, value, root=None):\n",
    "        if root is None:\n",
    "            root = self.root\n",
    "\n",
    "        node = self.search(value, root)\n",
    "        \n",
    "        if node:\n",
    "            children_num = self.number_of_children(node)\n",
    "            \n",
    "            if children_num == 0:\n",
    "                if node.parent:\n",
    "                    if node == node.parent.left:\n",
    "                        node.parent.left = None\n",
    "                    else:\n",
    "                        node.parent.right = None\n",
    "                else:\n",
    "                    self.root = None\n",
    "                    \n",
    "            elif children_num == 1:\n",
    "                child = node.left\n",
    "                if node.left is None:\n",
    "                    child = node.right\n",
    "                if node.parent:\n",
    "                    if node.parent.left == node:\n",
    "                        node.parent.left = child\n",
    "                    else:\n",
    "                        node.parent.right = child\n",
    "                    child.parent = node.parent\n",
    "                else:\n",
    "                    self.root = child\n",
    "                    child.parent = None\n",
    "                    \n",
    "            else:\n",
    "                successor = self.min_value_node(node.right)\n",
    "               \n",
    "                node.value = successor.value\n",
    "                self.delete_node(successor.value, node.right)  \n",
    "                \n",
    "                    \n",
    "            return True\n",
    "        \n",
    "        return False\n",
    "    \n",
    "    def search(self, value, startingPoint):\n",
    "        node = startingPoint\n",
    "        while node is not None and node.value != value:\n",
    "            if value < node.value:\n",
    "                node = node.left\n",
    "            else:\n",
    "                node = node.right\n",
    "        return node \n",
    "    \n",
    "    def min_value_node(self, node):\n",
    "        while node.left:\n",
    "            node = node.left\n",
    "        return node\n",
    "    \n",
    "    def number_of_children(self, node):\n",
    "        count = 0\n",
    "        if node.left:\n",
    "            count += 1\n",
    "        if node.right:\n",
    "            count += 1\n",
    "        return count\n",
    "        \n",
    "\n",
    "                    "
   ]
  },
  {
   "cell_type": "code",
   "execution_count": 10,
   "metadata": {},
   "outputs": [
    {
     "name": "stdout",
     "output_type": "stream",
     "text": [
      "       11(10)\n",
      "     10(7)\n",
      "       9(10)\n",
      "   7(5)\n",
      "     6(7)\n",
      " 5\n",
      "   4(5)\n",
      "     3(4)\n"
     ]
    },
    {
     "data": {
      "text/plain": [
       "True"
      ]
     },
     "execution_count": 10,
     "metadata": {},
     "output_type": "execute_result"
    }
   ],
   "source": [
    "bst = BST()\n",
    "bst.insert(5)\n",
    "bst.insert(4)\n",
    "bst.insert(7)\n",
    "bst.insert(3)\n",
    "bst.insert(6)\n",
    "bst.insert(10)\n",
    "bst.insert(9)\n",
    "bst.insert(11)\n",
    "\n",
    "bst.print_tree()\n",
    "check_balanced(bst.root)"
   ]
  },
  {
   "cell_type": "code",
   "execution_count": 11,
   "metadata": {},
   "outputs": [
    {
     "data": {
      "text/plain": [
       "True"
      ]
     },
     "execution_count": 11,
     "metadata": {},
     "output_type": "execute_result"
    }
   ],
   "source": [
    "bst.delete_node(3)"
   ]
  },
  {
   "cell_type": "code",
   "execution_count": 12,
   "metadata": {},
   "outputs": [
    {
     "name": "stdout",
     "output_type": "stream",
     "text": [
      "       11(10)\n",
      "     10(7)\n",
      "       9(10)\n",
      "   7(5)\n",
      "     6(7)\n",
      " 5\n",
      "   4(5)\n"
     ]
    },
    {
     "data": {
      "text/plain": [
       "False"
      ]
     },
     "execution_count": 12,
     "metadata": {},
     "output_type": "execute_result"
    }
   ],
   "source": [
    "bst.print_tree()\n",
    "check_balanced(bst.root)"
   ]
  },
  {
   "cell_type": "code",
   "execution_count": 13,
   "metadata": {},
   "outputs": [
    {
     "name": "stdout",
     "output_type": "stream",
     "text": [
      "     11(7)\n",
      "       9(11)\n",
      "   7(5)\n",
      "     6(7)\n",
      " 5\n",
      "   4(5)\n"
     ]
    },
    {
     "data": {
      "text/plain": [
       "False"
      ]
     },
     "execution_count": 13,
     "metadata": {},
     "output_type": "execute_result"
    }
   ],
   "source": [
    "bst.delete_node(10)\n",
    "bst.print_tree()\n",
    "check_balanced(bst.root)"
   ]
  },
  {
   "cell_type": "code",
   "execution_count": 14,
   "metadata": {},
   "outputs": [
    {
     "name": "stdout",
     "output_type": "stream",
     "text": [
      "     9(7)\n",
      "   7(5)\n",
      "     6(7)\n",
      " 5\n",
      "   4(5)\n"
     ]
    },
    {
     "data": {
      "text/plain": [
       "True"
      ]
     },
     "execution_count": 14,
     "metadata": {},
     "output_type": "execute_result"
    }
   ],
   "source": [
    "bst.delete_node(11)\n",
    "bst.print_tree()\n",
    "check_balanced(bst.root)"
   ]
  }
 ],
 "metadata": {
  "kernelspec": {
   "display_name": "Python 3",
   "language": "python",
   "name": "python3"
  },
  "language_info": {
   "codemirror_mode": {
    "name": "ipython",
    "version": 3
   },
   "file_extension": ".py",
   "mimetype": "text/x-python",
   "name": "python",
   "nbconvert_exporter": "python",
   "pygments_lexer": "ipython3",
   "version": "3.7.1"
  }
 },
 "nbformat": 4,
 "nbformat_minor": 2
}
