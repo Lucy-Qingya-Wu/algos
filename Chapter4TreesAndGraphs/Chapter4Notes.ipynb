{
 "cells": [
  {
   "cell_type": "code",
   "execution_count": 1,
   "metadata": {},
   "outputs": [],
   "source": [
    "#a complete binary tree: a binary tree in which each level is fully filled except the last level, \n",
    "#the last level is filled left to right"
   ]
  },
  {
   "cell_type": "code",
   "execution_count": null,
   "metadata": {},
   "outputs": [],
   "source": [
    "#a full binary tree: each node in the tree has either two children or no child"
   ]
  },
  {
   "cell_type": "code",
   "execution_count": 2,
   "metadata": {},
   "outputs": [],
   "source": [
    "#a perfect binary tree: a binary tree is both full and complete, all the leaf nodes are at the same level and \n",
    "#this level has the maximum number of nodes"
   ]
  },
  {
   "cell_type": "code",
   "execution_count": 3,
   "metadata": {},
   "outputs": [],
   "source": [
    "class Node:\n",
    "    def __init__(self, data):\n",
    "        self.data = data\n",
    "        self.left = None\n",
    "        self.right = None\n",
    "    "
   ]
  },
  {
   "cell_type": "code",
   "execution_count": 6,
   "metadata": {},
   "outputs": [],
   "source": [
    "def in_order_traversal_print(node):\n",
    "    if node is not None:\n",
    "        if node.left is not None:\n",
    "            in_order_traversal_print(node.left)\n",
    "        print(node.data)\n",
    "        if node.right is not None:\n",
    "            in_order_traversal_print(node.right)\n",
    "\n",
    "def pre_order_traversal_print(node):\n",
    "    if node is not None:\n",
    "        \n",
    "        print(node.data)\n",
    "        if node.left is not None:\n",
    "            pre_order_traversal_print(node.left)\n",
    "        if node.right is not None:\n",
    "            pre_order_traversal_print(node.right)\n",
    "\n",
    "def post_order_traversal_print(node):\n",
    "    if node is not None:\n",
    "        if node.left is not None:\n",
    "            post_order_traversal_print(node.left)\n",
    "        if node.right is not None:\n",
    "            post_order_traversal_print(node.right)\n",
    "        print(node.data)\n",
    "        "
   ]
  },
  {
   "cell_type": "code",
   "execution_count": 7,
   "metadata": {},
   "outputs": [
    {
     "name": "stdout",
     "output_type": "stream",
     "text": [
      "2\n",
      "1\n",
      "3\n"
     ]
    }
   ],
   "source": [
    "one = Node(1)\n",
    "one.left = Node(2)\n",
    "one.right = Node(3)\n",
    "in_order_traversal_print(one)"
   ]
  },
  {
   "cell_type": "code",
   "execution_count": 8,
   "metadata": {},
   "outputs": [
    {
     "name": "stdout",
     "output_type": "stream",
     "text": [
      "1\n",
      "2\n",
      "3\n"
     ]
    }
   ],
   "source": [
    "pre_order_traversal_print(one)"
   ]
  },
  {
   "cell_type": "code",
   "execution_count": 9,
   "metadata": {},
   "outputs": [
    {
     "name": "stdout",
     "output_type": "stream",
     "text": [
      "2\n",
      "3\n",
      "1\n"
     ]
    }
   ],
   "source": [
    "post_order_traversal_print(one)"
   ]
  },
  {
   "cell_type": "code",
   "execution_count": 12,
   "metadata": {},
   "outputs": [],
   "source": [
    "#adjacency list\n",
    "# {\n",
    "#     a: {b, c}\n",
    "#     c: {d, e}\n",
    "# }"
   ]
  },
  {
   "cell_type": "code",
   "execution_count": 13,
   "metadata": {},
   "outputs": [],
   "source": [
    "#adjacency matrix\n",
    "# [\n",
    "#    1  2  3  4\n",
    "# 1 [0, 1, 0, 0]\n",
    "# 2 [0, 0, 1, 0]\n",
    "# 3 [1, 0, 0, 0]\n",
    "# 4 [0, 0, 1, 0]\n",
    "    \n",
    "# ]"
   ]
  }
 ],
 "metadata": {
  "kernelspec": {
   "display_name": "Python 3",
   "language": "python",
   "name": "python3"
  },
  "language_info": {
   "codemirror_mode": {
    "name": "ipython",
    "version": 3
   },
   "file_extension": ".py",
   "mimetype": "text/x-python",
   "name": "python",
   "nbconvert_exporter": "python",
   "pygments_lexer": "ipython3",
   "version": "3.7.1"
  }
 },
 "nbformat": 4,
 "nbformat_minor": 2
}
