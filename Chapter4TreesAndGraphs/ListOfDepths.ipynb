{
 "cells": [
  {
   "cell_type": "code",
   "execution_count": 1,
   "metadata": {},
   "outputs": [],
   "source": [
    "#method one: using BFS, time complexity O(n), space complexity O(n) -> [at each level, a new linkedlist is created, \n",
    "#overall space complexity is O(n)]\n",
    "\n",
    "def list_of_depths(root):\n",
    "    result = []\n",
    "    \n",
    "    if root == None:\n",
    "        return result\n",
    "    \n",
    "    else:\n",
    "        current = LinkedList()\n",
    "        current.append(root)\n",
    "        \n",
    "        while not current.is_empty():\n",
    "            result.append(current)\n",
    "            \n",
    "            parents = current\n",
    "            current = LinkedList()\n",
    "            node = parents.head\n",
    "            \n",
    "            while node is not None:\n",
    "                if node.left is not None:\n",
    "                    current.append(node.left)\n",
    "                if node.right is not None:\n",
    "                    current.append(node.right)\n",
    "                node = node.next\n",
    "        return result"
   ]
  },
  {
   "cell_type": "code",
   "execution_count": 2,
   "metadata": {},
   "outputs": [],
   "source": [
    "class LinkedList:\n",
    "    def __init__(self):\n",
    "        self.head = None\n",
    "        self.tail = None\n",
    "        \n",
    "    def append(self, element):\n",
    "        if self.head is None:\n",
    "            self.head = element\n",
    "            self.tail = element\n",
    "        else:\n",
    "            self.tail.next = element\n",
    "            self.tail = element\n",
    "        \n",
    "    def is_empty(self):\n",
    "        return self.head == None\n",
    "    \n",
    "    def print_linked_list(self):\n",
    "        node = self.head\n",
    "        while node is not None:\n",
    "            print(node.value)\n",
    "            node = node.next\n",
    "class Node:\n",
    "    def __init__(self, value):\n",
    "        self.value = value\n",
    "        self.left = None\n",
    "        self.right = None\n",
    "        self.next = None\n"
   ]
  },
  {
   "cell_type": "code",
   "execution_count": 6,
   "metadata": {},
   "outputs": [
    {
     "name": "stdout",
     "output_type": "stream",
     "text": [
      "===========\n",
      "2\n",
      "===========\n",
      "1\n",
      "3\n",
      "===========\n",
      "0\n",
      "4\n"
     ]
    }
   ],
   "source": [
    "node0 = Node(0)\n",
    "node1 = Node(1)\n",
    "node2 = Node(2)\n",
    "node3 = Node(3)\n",
    "node4 = Node(4)\n",
    "\n",
    "node2.left = node1\n",
    "node2.right = node3\n",
    "\n",
    "node1.left = node0\n",
    "node3.right = node4\n",
    "\n",
    "\n",
    "result = list_of_depths(node2)\n",
    "\n",
    "for ll in result:\n",
    "    print(\"===========\")\n",
    "    ll.print_linked_list()"
   ]
  },
  {
   "cell_type": "code",
   "execution_count": 7,
   "metadata": {},
   "outputs": [],
   "source": [
    "#method two: using DFS + pre-order traversal, time complexity O(n), space complexity O(log(n) + n) = O(n) -> \n",
    "#[at each level, a new LinkedList instance is created, so space complexity is O(n), if we assume the binary \n",
    "#research tree is balanced, recursive calls take up to log(n) space, worst case take O(n) space, still the \n",
    "#overall space complexity for the function is O(n)]\n",
    "\n",
    "def list_of_depths_v2(root):\n",
    "    result = []\n",
    "    if root is None:\n",
    "        return result\n",
    "    pre_order_traversal(root, result, 0)\n",
    "    return result\n",
    "\n",
    "def pre_order_traversal(node, result, level):\n",
    "    linked_list = None\n",
    "    if level == len(result):\n",
    "        linked_list = LinkedList()\n",
    "        result.append(linked_list)\n",
    "    else:\n",
    "        linked_list = result[level]\n",
    "    \n",
    "    linked_list.append(node)\n",
    "    if node.left is not None:\n",
    "        pre_order_traversal(node.left, result, level+1)\n",
    "    if node.right is not None:\n",
    "        pre_order_traversal(node.right, result, level+1)\n"
   ]
  },
  {
   "cell_type": "code",
   "execution_count": 8,
   "metadata": {},
   "outputs": [
    {
     "name": "stdout",
     "output_type": "stream",
     "text": [
      "===========\n",
      "2\n",
      "===========\n",
      "1\n",
      "3\n",
      "===========\n",
      "0\n",
      "4\n"
     ]
    }
   ],
   "source": [
    "node0 = Node(0)\n",
    "node1 = Node(1)\n",
    "node2 = Node(2)\n",
    "node3 = Node(3)\n",
    "node4 = Node(4)\n",
    "\n",
    "node2.left = node1\n",
    "node2.right = node3\n",
    "\n",
    "node1.left = node0\n",
    "node3.right = node4\n",
    "\n",
    "\n",
    "result = list_of_depths_v2(node2)\n",
    "\n",
    "for ll in result:\n",
    "    print(\"===========\")\n",
    "    ll.print_linked_list()"
   ]
  }
 ],
 "metadata": {
  "kernelspec": {
   "display_name": "Python 3",
   "language": "python",
   "name": "python3"
  },
  "language_info": {
   "codemirror_mode": {
    "name": "ipython",
    "version": 3
   },
   "file_extension": ".py",
   "mimetype": "text/x-python",
   "name": "python",
   "nbconvert_exporter": "python",
   "pygments_lexer": "ipython3",
   "version": "3.7.1"
  }
 },
 "nbformat": 4,
 "nbformat_minor": 2
}
