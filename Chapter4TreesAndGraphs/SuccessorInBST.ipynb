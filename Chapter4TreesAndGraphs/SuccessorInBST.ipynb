{
 "cells": [
  {
   "cell_type": "code",
   "execution_count": 46,
   "metadata": {},
   "outputs": [],
   "source": [
    "class Node:\n",
    "    def __init__(self, value):\n",
    "        self.right = None\n",
    "        self.left = None\n",
    "        self.parent = None\n",
    "        self.value = value\n",
    "def find_successor(node):\n",
    "    \n",
    "    if node is None:\n",
    "        return None\n",
    "    \n",
    "    if node.right is not None:\n",
    "        \n",
    "        successor = node.right\n",
    "        while successor.left is not None:\n",
    "            successor = successor.left\n",
    "        return successor\n",
    "    \n",
    "    else: \n",
    "        \n",
    "        while node.parent is not None and node == node.parent.right:\n",
    "            node = node.parent\n",
    "            \n",
    "        return node.parent\n"
   ]
  },
  {
   "cell_type": "code",
   "execution_count": 47,
   "metadata": {},
   "outputs": [],
   "source": [
    "node1 = Node(1)\n",
    "node2 = Node(2)\n",
    "node3 = Node(3)\n",
    "node4 = Node(4)\n",
    "node5 = Node(5)\n",
    "\n",
    "node3.left = node2\n",
    "node2.left = node1\n",
    "node2.parent = node3\n",
    "node1.parent = node2\n",
    "\n",
    "node3.right = node4\n",
    "node4.parent = node3\n",
    "\n",
    "node4.left = node5\n",
    "node5.parent = node4"
   ]
  },
  {
   "cell_type": "code",
   "execution_count": 48,
   "metadata": {},
   "outputs": [
    {
     "name": "stdout",
     "output_type": "stream",
     "text": [
      "False\n",
      "False\n",
      "True\n",
      "True\n"
     ]
    }
   ],
   "source": [
    "print(find_successor(node1) == node3) #true\n",
    "print(find_successor(node3) is None) #False\n",
    "print(find_successor(node3) == node5 ) #true\n",
    "print(find_successor(node4) is None) #True\n"
   ]
  },
  {
   "cell_type": "code",
   "execution_count": 49,
   "metadata": {},
   "outputs": [
    {
     "name": "stdout",
     "output_type": "stream",
     "text": [
      "True\n"
     ]
    }
   ],
   "source": [
    "print(find_successor(node2).value == 3) #True"
   ]
  }
 ],
 "metadata": {
  "kernelspec": {
   "display_name": "Python 3",
   "language": "python",
   "name": "python3"
  },
  "language_info": {
   "codemirror_mode": {
    "name": "ipython",
    "version": 3
   },
   "file_extension": ".py",
   "mimetype": "text/x-python",
   "name": "python",
   "nbconvert_exporter": "python",
   "pygments_lexer": "ipython3",
   "version": "3.7.1"
  }
 },
 "nbformat": 4,
 "nbformat_minor": 2
}
