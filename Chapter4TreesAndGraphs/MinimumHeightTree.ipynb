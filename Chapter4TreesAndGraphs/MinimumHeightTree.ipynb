{
 "cells": [
  {
   "cell_type": "code",
   "execution_count": 1,
   "metadata": {},
   "outputs": [],
   "source": [
    "#running time: O(n)\n",
    "def minimum_tree(num_list, start, end):\n",
    "    if end < start:\n",
    "        return None\n",
    "    \n",
    "    elif end == start:\n",
    "        return num_list[start]\n",
    "    \n",
    "    else:\n",
    "        middle = (start+end) // 2\n",
    "        root = num_list[middle]\n",
    "        root.left = minimum_tree(num_list, start, middle-1)\n",
    "        root.right = minimum_tree(num_list, middle+1, end)\n",
    "        return root\n",
    "    "
   ]
  },
  {
   "cell_type": "code",
   "execution_count": 2,
   "metadata": {},
   "outputs": [],
   "source": [
    "class Node:\n",
    "    def __init__(self, value):\n",
    "        self.value = value\n",
    "        self.left = None\n",
    "        self.right = None"
   ]
  },
  {
   "cell_type": "code",
   "execution_count": 3,
   "metadata": {},
   "outputs": [
    {
     "name": "stdout",
     "output_type": "stream",
     "text": [
      "     4\n",
      "   3\n",
      " 2\n",
      "     1\n",
      "   0\n"
     ]
    }
   ],
   "source": [
    "num_list = [Node(0), Node(1), Node(2), Node(3), Node(4)]\n",
    "\n",
    "root = minimum_tree(num_list, 0, len(num_list) - 1)\n",
    "\n",
    "def print_tree(root, num):\n",
    "    if root is not None:\n",
    "        print_tree(root.right, num+2)\n",
    "        print(\" \" * num + str(root.value))\n",
    "        print_tree(root.left, num+2)\n",
    "        \n",
    "print_tree(root, 1) \n"
   ]
  }
 ],
 "metadata": {
  "kernelspec": {
   "display_name": "Python 3",
   "language": "python",
   "name": "python3"
  },
  "language_info": {
   "codemirror_mode": {
    "name": "ipython",
    "version": 3
   },
   "file_extension": ".py",
   "mimetype": "text/x-python",
   "name": "python",
   "nbconvert_exporter": "python",
   "pygments_lexer": "ipython3",
   "version": "3.7.1"
  }
 },
 "nbformat": 4,
 "nbformat_minor": 2
}
