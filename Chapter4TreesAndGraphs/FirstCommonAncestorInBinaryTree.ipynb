{
 "cells": [
  {
   "cell_type": "code",
   "execution_count": 1,
   "metadata": {},
   "outputs": [],
   "source": [
    "#solution1: for each node, assume no link to its parent \n",
    "class Node:\n",
    "    def __init__(self, value):\n",
    "        self.left = None\n",
    "        self.right = None\n",
    "        self.value = value\n",
    "\n",
    "\n",
    "def first_common_ancestor_in_binary_tree(value1, value2, root):\n",
    "    \n",
    "    num, node = helper(value1, value2, root)\n",
    "    if num == 2:\n",
    "        return node\n",
    "    else:\n",
    "        return None\n",
    "    \n",
    "\n",
    "def helper(value1, value2, node):\n",
    "    if node == None:\n",
    "        return (0, None)\n",
    "    if node.value == value1 and node.value == value2:\n",
    "        return (2, node)\n",
    "    \n",
    "    if node.value == value1 or node.value == value2:\n",
    "        return (1, None)\n",
    "    \n",
    "    left_result = helper(value1, value2, node.left)\n",
    "    if left_result[0] == 2:\n",
    "        return left_result\n",
    "\n",
    "    right_result = helper(value1, value2, node.right)\n",
    "    if right_result[0] == 2:\n",
    "        return right_result\n",
    "    \n",
    "    if left_result != (0, None) and right_result != (0, None):\n",
    "        return (2, node)\n",
    "    elif left_result != (0, None) or right_result != (0, None):\n",
    "        return (1, None)\n",
    "    else:\n",
    "        return (0, None)"
   ]
  },
  {
   "cell_type": "code",
   "execution_count": 2,
   "metadata": {},
   "outputs": [],
   "source": [
    "node1 = Node(1)\n",
    "node2 = Node(2)\n",
    "node3 = Node(3)\n",
    "node4 = Node(4)\n",
    "node5 = Node(5)\n",
    "node6 = Node(6)\n",
    "node7 = Node(7)\n",
    "node8 = Node(8)\n",
    "node9 = Node(9)\n",
    "node10 = Node(10)\n",
    "node11 = Node(11)\n",
    "\n",
    "node1.left = node2\n",
    "node1.right = node8\n",
    "\n",
    "node2.left = node4\n",
    "node2.right = node3\n",
    "\n",
    "node3.left = node5\n",
    "node3.right = node6\n",
    "\n",
    "node4.right = node11\n",
    "\n",
    "node6.left = node7\n",
    "\n",
    "node8.left = node9\n",
    "node9.right = node10"
   ]
  },
  {
   "cell_type": "code",
   "execution_count": 3,
   "metadata": {},
   "outputs": [
    {
     "name": "stdout",
     "output_type": "stream",
     "text": [
      "3\n"
     ]
    }
   ],
   "source": [
    "result = first_common_ancestor_in_binary_tree(6, 5, node1) \n",
    "if result is not None:\n",
    "    print(result.value)\n",
    "else:\n",
    "    print(\"result is None\")"
   ]
  }
 ],
 "metadata": {
  "kernelspec": {
   "display_name": "Python 3",
   "language": "python",
   "name": "python3"
  },
  "language_info": {
   "codemirror_mode": {
    "name": "ipython",
    "version": 3
   },
   "file_extension": ".py",
   "mimetype": "text/x-python",
   "name": "python",
   "nbconvert_exporter": "python",
   "pygments_lexer": "ipython3",
   "version": "3.7.1"
  }
 },
 "nbformat": 4,
 "nbformat_minor": 2
}
