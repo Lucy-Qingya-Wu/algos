{
 "cells": [
  {
   "cell_type": "code",
   "execution_count": 40,
   "metadata": {},
   "outputs": [],
   "source": [
    "class Queue:\n",
    "    def __init__(self):\n",
    "        self.head = None\n",
    "        self.tail = None\n",
    "    \n",
    "    #O(1)\n",
    "    def add(self, new_node): \n",
    "        \n",
    "        if not self.head:\n",
    "            self.head = new_node\n",
    "            self.tail = new_node\n",
    "            \n",
    "        else:\n",
    "            self.tail.next = new_node\n",
    "            self.tail = self.tail.next\n",
    "            \n",
    "    #O(1)      \n",
    "    def remove(self):\n",
    "        if not self.head: \n",
    "            raise Exception(\"no head in queue\")\n",
    "        result = self.head\n",
    "        self.head = self.head.next\n",
    "        return result\n",
    "    \n",
    "    #O(1)      \n",
    "    def peek(self):\n",
    "        if not self.head:\n",
    "            raise Exception(\"no node in queue\")\n",
    "        \n",
    "        return self.head\n",
    "            \n",
    "    def print_queue(self):\n",
    "        head = self.head\n",
    "        while head:\n",
    "            print(head.value)\n",
    "            head = head.next\n",
    "    #O(1)             \n",
    "    def is_empty(self):\n",
    "        return self.head == None"
   ]
  },
  {
   "cell_type": "code",
   "execution_count": 41,
   "metadata": {},
   "outputs": [],
   "source": [
    "#assume we use ajacency list to represent graph, \n",
    "#each vertex and its adjacent vertices are one key-value pair stored in a Python dictionary\n",
    "#assume node has a property called status, at the beginning, status = \"unvisited\"\n",
    "\n",
    "def route_bw_nodes(graph, u, v):\n",
    "    if u == v:\n",
    "        return True\n",
    "    \n",
    "    u.status = \"visiting\"\n",
    "    queue = Queue()\n",
    "    queue.add(u)\n",
    "    \n",
    "    while not queue.is_empty():\n",
    "        node = queue.remove()\n",
    "        neighbors = []\n",
    "        \n",
    "        if node in graph:\n",
    "            neighbors = graph[node]\n",
    "       \n",
    "        for neighbor in neighbors:\n",
    "            if neighbor.status == \"unvisited\":\n",
    "                if neighbor == v:\n",
    "                    return True\n",
    "                \n",
    "                neighbor.status = \"visiting\"\n",
    "                queue.add(neighbor)\n",
    "                \n",
    "        node.status = \"visited\"\n",
    "        \n",
    "    return False\n",
    "\n"
   ]
  },
  {
   "cell_type": "code",
   "execution_count": 42,
   "metadata": {},
   "outputs": [],
   "source": [
    "class Node:\n",
    "    def __init__(self, value):\n",
    "        self.value = value\n",
    "        self.status = \"unvisited\"\n",
    "        self.next = None\n",
    "        \n",
    "node0 = Node(0)\n",
    "node1 = Node(1)\n",
    "node2 = Node(2)\n",
    "node3 = Node(3)\n",
    "node4 = Node(4)\n",
    "node5 = Node(5)\n",
    "\n",
    "graph = {}\n",
    "graph[node0] = [node1, node4, node5]\n",
    "graph[node1] = [node3, node4]\n",
    "graph[node2] = [node1]\n",
    "graph[node3] = [node2, node4]\n",
    "\n",
    "\n"
   ]
  },
  {
   "cell_type": "code",
   "execution_count": 43,
   "metadata": {},
   "outputs": [
    {
     "name": "stdout",
     "output_type": "stream",
     "text": [
      "False\n"
     ]
    }
   ],
   "source": [
    "print(route_bw_nodes(graph, node4, node5))"
   ]
  }
 ],
 "metadata": {
  "kernelspec": {
   "display_name": "Python 3",
   "language": "python",
   "name": "python3"
  },
  "language_info": {
   "codemirror_mode": {
    "name": "ipython",
    "version": 3
   },
   "file_extension": ".py",
   "mimetype": "text/x-python",
   "name": "python",
   "nbconvert_exporter": "python",
   "pygments_lexer": "ipython3",
   "version": "3.7.1"
  }
 },
 "nbformat": 4,
 "nbformat_minor": 2
}
