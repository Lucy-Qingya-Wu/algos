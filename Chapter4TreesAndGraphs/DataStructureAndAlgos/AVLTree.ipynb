{
 "cells": [
  {
   "cell_type": "code",
   "execution_count": 1,
   "metadata": {},
   "outputs": [],
   "source": [
    "#AVL tree: self-balancing binary search tree\n",
    "#The rotation operations do not change the in-order traversal of AVL tree\n",
    "#Insertion takes O(log(n))\n",
    "#Height of AVL tree is log(n)\n",
    "\n",
    "\n",
    "class Node:\n",
    "    def __init__(self, value):\n",
    "        self.left = None\n",
    "        self.right = None\n",
    "        self.value = value\n",
    "        self.parent = None\n",
    "        self.height = 0\n",
    "        \n",
    "#Duplicates are excluded        \n",
    "class AVLTree:\n",
    "    def __init__(self):\n",
    "        self.root = None\n",
    "    \n",
    "    def insert(self, value):\n",
    "        new_node = Node(value)\n",
    "        if self.root is None:\n",
    "            self.root = new_node\n",
    "        else:\n",
    "            node = self.root\n",
    "            while node:\n",
    "                if value < node.value:\n",
    "                    if node.left is not None:\n",
    "                        node = node.left\n",
    "                    else:\n",
    "                        node.left = new_node\n",
    "                        new_node.parent = node\n",
    "                        self._inspect_insertion(new_node)\n",
    "                        break\n",
    "                else:\n",
    "                    if node.right is not None:\n",
    "                        node = node.right\n",
    "                    else:\n",
    "                        node.right = new_node\n",
    "                        new_node.parent = node\n",
    "                        self._inspect_insertion(new_node)\n",
    "                        break\n",
    "        \n",
    "    \n",
    "    def print_tree(self):\n",
    "        if self.root == None:\n",
    "            print(\"BST is empty\")\n",
    "        else:\n",
    "            self._print_tree(self.root, 1)\n",
    "            \n",
    "    def _print_tree(self, node, number_of_space):\n",
    "        if node.right is not None:\n",
    "            self._print_tree(node.right, number_of_space+2)\n",
    "        if node.parent:\n",
    "            print(\n",
    "                \" \" * number_of_space + str(node.value) + \n",
    "                \"(P:\" + str(node.parent.value) + \") (H:\" + str(node.height) + \")\")\n",
    "        else:\n",
    "            print(\" \" * number_of_space + str(node.value) + \"(H:\" + str(node.height) + \")\")\n",
    "        \n",
    "        if node.left is not None:\n",
    "            self._print_tree(node.left, number_of_space+2)\n",
    "    \n",
    "    def delete_node(self, value, root=None):\n",
    "        if root is None:\n",
    "            root = self.root\n",
    "\n",
    "        node = self.search(value, root)\n",
    "        \n",
    "        if node:\n",
    "            children_num = self.number_of_children(node)\n",
    "            \n",
    "            if children_num == 0:\n",
    "                if node.parent:\n",
    "                    if node == node.parent.left:\n",
    "                        node.parent.left = None\n",
    "                    else:\n",
    "                        node.parent.right = None\n",
    "                else:\n",
    "                    self.root = None\n",
    "                    \n",
    "            elif children_num == 1:\n",
    "                child = node.left\n",
    "                if node.left is None:\n",
    "                    child = node.right\n",
    "                if node.parent:\n",
    "                    if node.parent.left == node:\n",
    "                        node.parent.left = child\n",
    "                    else:\n",
    "                        node.parent.right = child\n",
    "                    child.parent = node.parent\n",
    "                else:\n",
    "                    self.root = child\n",
    "                    child.parent = None\n",
    "                    \n",
    "            else:\n",
    "                successor = self.min_value_node(node.right)\n",
    "               \n",
    "                node.value = successor.value\n",
    "                \n",
    "                self.delete_node(successor.value, node.right)  \n",
    "                \n",
    "                return\n",
    "            \n",
    "            parent = node.parent\n",
    "            if parent is not None:\n",
    "                self._inspect_deletion(parent)\n",
    "            \n",
    "            return True\n",
    "        \n",
    "        return False\n",
    "    \n",
    "    def search(self, value, startingPoint):\n",
    "        node = startingPoint\n",
    "        while node is not None and node.value != value:\n",
    "            if value < node.value:\n",
    "                node = node.left\n",
    "            else:\n",
    "                node = node.right\n",
    "        return node \n",
    "    \n",
    "    def min_value_node(self, node):\n",
    "        while node.left:\n",
    "            node = node.left\n",
    "        return node\n",
    "    \n",
    "    def number_of_children(self, node):\n",
    "        count = 0\n",
    "        if node.left:\n",
    "            count += 1\n",
    "        if node.right:\n",
    "            count += 1\n",
    "        return count\n",
    "        \n",
    "    #traverse up the tree to see if any ancestor node is unbalanced\n",
    "    def _inspect_insertion(self, current_node, path=[]):\n",
    "        parent = current_node.parent\n",
    "        \n",
    "        if parent is None:\n",
    "            return\n",
    "        \n",
    "        path.append(current_node)\n",
    "        \n",
    "        left_child_height = parent.left.height if parent.left is not None else -1\n",
    "        right_child_height = parent.right.height if parent.right is not None else -1\n",
    "       \n",
    "        balance_factor = abs(right_child_height - left_child_height)\n",
    "   \n",
    "        if balance_factor == 0:\n",
    "            return\n",
    "        \n",
    "        if balance_factor > 1:\n",
    "            path.append(parent)\n",
    "            self._rebalance_node(path[-1], path[-2], path[-3])\n",
    "            return\n",
    "        \n",
    "        parent.height = max(left_child_height, right_child_height) + 1\n",
    "        \n",
    "        self._inspect_insertion(parent, path)\n",
    "        \n",
    "    def _inspect_deletion(self, current_node):\n",
    "        \n",
    "        if current_node is None: \n",
    "            return\n",
    "        \n",
    "        self._update_height(current_node)\n",
    "        \n",
    "        \n",
    "        left_child_height = current_node.left.height if current_node.left is not None else -1\n",
    "        right_child_height = current_node.right.height if current_node.right is not None else -1\n",
    "        \n",
    "        \n",
    "        if abs(right_child_height - left_child_height) > 1:\n",
    "            y = self.taller_child(current_node)\n",
    "            x = None\n",
    "            \n",
    "            left_child_height = y.left.height if y.left is not None else -1\n",
    "            right_child_height = y.right.height if y.right is not None else -1\n",
    "            \n",
    "            if left_child_height == right_child_height:\n",
    "                if current_node.left == y:\n",
    "                    x = y.left\n",
    "                else:\n",
    "                    x = y.right\n",
    "            else:\n",
    "                x = self.taller_child(y)\n",
    "                \n",
    "            self._rebalance_node(current_node, y, x)\n",
    "            \n",
    "        self._inspect_deletion(current_node.parent)\n",
    "        \n",
    "    def taller_child(self, node):\n",
    "        if node.left is None:\n",
    "            return node.right\n",
    "        elif node.right is None:\n",
    "            return node.left\n",
    "        else:\n",
    "            return node.left if node.left.height > node.right.height else node.right\n",
    "        \n",
    "    def _rebalance_node(self, z, y, x):\n",
    "        if z.left == y and y.left == x:\n",
    "            self._right_rotate(z)\n",
    "            \n",
    "        elif z.right == y and y.right == x:\n",
    "            self._left_rotate(z)\n",
    "            \n",
    "        elif z.left == y and y.right == x:\n",
    "            self._left_rotate(y)\n",
    "            self._right_rotate(z)\n",
    "        \n",
    "        elif z.right == y and y.left == x:\n",
    "            self._right_rotate(y)\n",
    "            self._left_rotate(z)\n",
    "        \n",
    "        else:\n",
    "            raise Exception(\"x, y, z failed to be balanced\")\n",
    "    \n",
    "    def _right_rotate(self, z):\n",
    "        y = z.left\n",
    "        y.parent = z.parent\n",
    "        if y.parent is None:\n",
    "            self.root = y\n",
    "        if z.parent:\n",
    "            if z.parent.left == z:\n",
    "                z.parent.left = y\n",
    "            else:\n",
    "                z.parent.right = y\n",
    "        z.left = y.right\n",
    "        if z.left:\n",
    "            z.left.parent = z\n",
    "        y.right = z\n",
    "        z.parent = y\n",
    "        \n",
    "        self._update_height(z)\n",
    "        self._update_height(y)\n",
    "        \n",
    "   \n",
    "    \n",
    "    def _left_rotate(self, z):\n",
    "        y = z.right\n",
    "        y.parent = z.parent\n",
    "        if y.parent is None:\n",
    "            self.root = y\n",
    "        if z.parent:\n",
    "            if z.parent.left == z:\n",
    "                z.parent.left = y\n",
    "            else:\n",
    "                z.parent.right = y\n",
    "        z.right = y.left\n",
    "        if y.left:\n",
    "            y.left.parent = z\n",
    "        y.left = z\n",
    "        z.parent = y\n",
    "        \n",
    "        self._update_height(z)\n",
    "        self._update_height(y)\n",
    "        \n",
    "\n",
    "\n",
    "    def _update_height(self, node):\n",
    "        left_child_height = node.left.height if node.left is not None else -1\n",
    "        right_child_height = node.right.height if node.right is not None else -1\n",
    "        node.height = max(left_child_height, right_child_height) + 1\n",
    "        \n",
    "    \n"
   ]
  },
  {
   "cell_type": "code",
   "execution_count": 2,
   "metadata": {},
   "outputs": [
    {
     "name": "stdout",
     "output_type": "stream",
     "text": [
      "   11(P:7) (H:0)\n",
      " 7(H:2)\n",
      "     5(P:3) (H:0)\n",
      "   3(P:7) (H:1)\n",
      "     1(P:3) (H:0)\n"
     ]
    }
   ],
   "source": [
    "avl = AVLTree()\n",
    "avl.insert(11)\n",
    "avl.insert(7)\n",
    "avl.insert(3)\n",
    "avl.insert(1)\n",
    "avl.insert(5)\n",
    "avl.print_tree()"
   ]
  },
  {
   "cell_type": "code",
   "execution_count": 3,
   "metadata": {},
   "outputs": [
    {
     "name": "stdout",
     "output_type": "stream",
     "text": [
      "     11(P:7) (H:0)\n",
      "   7(P:3) (H:1)\n",
      "     5(P:7) (H:0)\n",
      " 3(H:2)\n",
      "   1(P:3) (H:1)\n",
      "     0(P:1) (H:0)\n"
     ]
    }
   ],
   "source": [
    "avl.insert(0)\n",
    "avl.print_tree()"
   ]
  },
  {
   "cell_type": "code",
   "execution_count": 4,
   "metadata": {},
   "outputs": [
    {
     "name": "stdout",
     "output_type": "stream",
     "text": [
      "     11(P:7) (H:0)\n",
      "   7(P:3) (H:2)\n",
      "     5(P:7) (H:1)\n",
      "       4(P:5) (H:0)\n",
      " 3(H:3)\n",
      "   1(P:3) (H:1)\n",
      "     0(P:1) (H:0)\n"
     ]
    }
   ],
   "source": [
    "avl.insert(4)\n",
    "avl.print_tree()"
   ]
  },
  {
   "cell_type": "code",
   "execution_count": 5,
   "metadata": {},
   "outputs": [
    {
     "name": "stdout",
     "output_type": "stream",
     "text": [
      "     11(P:7) (H:0)\n",
      "   7(P:3) (H:2)\n",
      "       6(P:5) (H:0)\n",
      "     5(P:7) (H:1)\n",
      "       4(P:5) (H:0)\n",
      " 3(H:3)\n",
      "   1(P:3) (H:1)\n",
      "     0(P:1) (H:0)\n"
     ]
    }
   ],
   "source": [
    "avl.insert(6)\n",
    "avl.print_tree()"
   ]
  },
  {
   "cell_type": "code",
   "execution_count": 6,
   "metadata": {},
   "outputs": [],
   "source": [
    "avl.insert(8)\n",
    "avl.insert(10)"
   ]
  },
  {
   "cell_type": "code",
   "execution_count": 7,
   "metadata": {},
   "outputs": [
    {
     "name": "stdout",
     "output_type": "stream",
     "text": [
      "========= test case for deletion =========\n",
      "       11(P:10) (H:0)\n",
      "     10(P:7) (H:1)\n",
      "       8(P:10) (H:0)\n",
      "   7(P:3) (H:2)\n",
      "       6(P:5) (H:0)\n",
      "     5(P:7) (H:1)\n",
      "       4(P:5) (H:0)\n",
      " 3(H:3)\n",
      "   1(P:3) (H:1)\n",
      "     0(P:1) (H:0)\n"
     ]
    }
   ],
   "source": [
    "print(\"========= test case for deletion =========\")\n",
    "avl = AVLTree()\n",
    "avl.insert(3)\n",
    "avl.insert(1)\n",
    "avl.insert(7)\n",
    "avl.insert(0)\n",
    "avl.insert(5)\n",
    "avl.insert(10)\n",
    "\n",
    "avl.insert(4)\n",
    "avl.insert(6)\n",
    "avl.insert(8)\n",
    "avl.insert(11)\n",
    "\n",
    "avl.print_tree()"
   ]
  },
  {
   "cell_type": "code",
   "execution_count": 8,
   "metadata": {},
   "outputs": [
    {
     "name": "stdout",
     "output_type": "stream",
     "text": [
      "       11(P:10) (H:0)\n",
      "     10(P:8) (H:1)\n",
      "   8(P:3) (H:2)\n",
      "       6(P:5) (H:0)\n",
      "     5(P:8) (H:1)\n",
      "       4(P:5) (H:0)\n",
      " 3(H:3)\n",
      "   1(P:3) (H:1)\n",
      "     0(P:1) (H:0)\n"
     ]
    }
   ],
   "source": [
    "avl.delete_node(7)\n",
    "avl.print_tree()"
   ]
  },
  {
   "cell_type": "code",
   "execution_count": 9,
   "metadata": {},
   "outputs": [
    {
     "name": "stdout",
     "output_type": "stream",
     "text": [
      "       11(P:10) (H:0)\n",
      "     10(P:8) (H:1)\n",
      "   8(P:3) (H:2)\n",
      "     6(P:8) (H:1)\n",
      "       4(P:6) (H:0)\n",
      " 3(H:3)\n",
      "   1(P:3) (H:1)\n",
      "     0(P:1) (H:0)\n"
     ]
    }
   ],
   "source": [
    "avl.delete_node(5)\n",
    "avl.print_tree()"
   ]
  },
  {
   "cell_type": "code",
   "execution_count": 10,
   "metadata": {},
   "outputs": [
    {
     "name": "stdout",
     "output_type": "stream",
     "text": [
      "     11(P:10) (H:0)\n",
      "   10(P:8) (H:1)\n",
      " 8(H:3)\n",
      "     6(P:3) (H:1)\n",
      "       4(P:6) (H:0)\n",
      "   3(P:8) (H:2)\n",
      "     1(P:3) (H:0)\n"
     ]
    }
   ],
   "source": [
    "avl.delete_node(0)\n",
    "avl.print_tree()"
   ]
  },
  {
   "cell_type": "code",
   "execution_count": 11,
   "metadata": {},
   "outputs": [
    {
     "name": "stdout",
     "output_type": "stream",
     "text": [
      "     11(P:8) (H:0)\n",
      "   8(P:6) (H:1)\n",
      " 6(H:2)\n",
      "     4(P:3) (H:0)\n",
      "   3(P:6) (H:1)\n",
      "     1(P:3) (H:0)\n"
     ]
    }
   ],
   "source": [
    "avl.delete_node(10)\n",
    "avl.print_tree()"
   ]
  },
  {
   "cell_type": "code",
   "execution_count": 12,
   "metadata": {},
   "outputs": [
    {
     "name": "stdout",
     "output_type": "stream",
     "text": [
      "   11(P:6) (H:0)\n",
      " 6(H:2)\n",
      "     4(P:3) (H:0)\n",
      "   3(P:6) (H:1)\n",
      "     1(P:3) (H:0)\n"
     ]
    }
   ],
   "source": [
    "avl.delete_node(8)\n",
    "avl.print_tree()"
   ]
  },
  {
   "cell_type": "code",
   "execution_count": 13,
   "metadata": {},
   "outputs": [
    {
     "name": "stdout",
     "output_type": "stream",
     "text": [
      "   6(P:3) (H:1)\n",
      "     4(P:6) (H:0)\n",
      " 3(H:2)\n",
      "   1(P:3) (H:0)\n"
     ]
    }
   ],
   "source": [
    "avl.delete_node(11)\n",
    "avl.print_tree()"
   ]
  },
  {
   "cell_type": "code",
   "execution_count": 14,
   "metadata": {},
   "outputs": [
    {
     "name": "stdout",
     "output_type": "stream",
     "text": [
      "   4(P:3) (H:0)\n",
      " 3(H:1)\n",
      "   1(P:3) (H:0)\n"
     ]
    }
   ],
   "source": [
    "avl.delete_node(6)\n",
    "avl.print_tree()"
   ]
  },
  {
   "cell_type": "code",
   "execution_count": 15,
   "metadata": {},
   "outputs": [
    {
     "name": "stdout",
     "output_type": "stream",
     "text": [
      " 4(H:1)\n",
      "   1(P:4) (H:0)\n"
     ]
    }
   ],
   "source": [
    "avl.delete_node(3)\n",
    "avl.print_tree()"
   ]
  },
  {
   "cell_type": "code",
   "execution_count": 16,
   "metadata": {},
   "outputs": [
    {
     "name": "stdout",
     "output_type": "stream",
     "text": [
      " 1(H:0)\n"
     ]
    }
   ],
   "source": [
    "avl.delete_node(4)\n",
    "avl.print_tree()"
   ]
  },
  {
   "cell_type": "code",
   "execution_count": 17,
   "metadata": {},
   "outputs": [
    {
     "name": "stdout",
     "output_type": "stream",
     "text": [
      "BST is empty\n"
     ]
    }
   ],
   "source": [
    "avl.delete_node(1)\n",
    "avl.print_tree()"
   ]
  },
  {
   "cell_type": "code",
   "execution_count": 18,
   "metadata": {},
   "outputs": [
    {
     "name": "stdout",
     "output_type": "stream",
     "text": [
      "========= test case for deletion =========\n",
      "     10(P:9) (H:0)\n",
      "   9(P:8) (H:1)\n",
      " 8(H:3)\n",
      "       7(P:6) (H:0)\n",
      "     6(P:5) (H:1)\n",
      "   5(P:8) (H:2)\n",
      "     4(P:5) (H:1)\n",
      "       3(P:4) (H:0)\n"
     ]
    }
   ],
   "source": [
    "print(\"========= test case for deletion =========\")\n",
    "avl = AVLTree()\n",
    "avl.insert(8)\n",
    "avl.insert(5)\n",
    "avl.insert(9)\n",
    "avl.insert(4)\n",
    "avl.insert(6)\n",
    "avl.insert(10)\n",
    "\n",
    "avl.insert(3)\n",
    "avl.insert(7)\n",
    "\n",
    "\n",
    "avl.print_tree()"
   ]
  },
  {
   "cell_type": "code",
   "execution_count": 19,
   "metadata": {},
   "outputs": [
    {
     "name": "stdout",
     "output_type": "stream",
     "text": [
      "     9(P:8) (H:0)\n",
      "   8(P:5) (H:2)\n",
      "       7(P:6) (H:0)\n",
      "     6(P:8) (H:1)\n",
      " 5(H:3)\n",
      "   4(P:5) (H:1)\n",
      "     3(P:4) (H:0)\n"
     ]
    }
   ],
   "source": [
    "avl.delete_node(10)\n",
    "avl.print_tree()"
   ]
  }
 ],
 "metadata": {
  "kernelspec": {
   "display_name": "Python 3",
   "language": "python",
   "name": "python3"
  },
  "language_info": {
   "codemirror_mode": {
    "name": "ipython",
    "version": 3
   },
   "file_extension": ".py",
   "mimetype": "text/x-python",
   "name": "python",
   "nbconvert_exporter": "python",
   "pygments_lexer": "ipython3",
   "version": "3.7.1"
  }
 },
 "nbformat": 4,
 "nbformat_minor": 2
}
