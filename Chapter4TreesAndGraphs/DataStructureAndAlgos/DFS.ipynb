{
 "cells": [
  {
   "cell_type": "code",
   "execution_count": 1,
   "metadata": {},
   "outputs": [],
   "source": [
    "#dfs: DFS traversal of the graph produces the minimum spanning tree\n",
    "#O(V + E) \n",
    "def dfs(node):\n",
    "    if node is None:\n",
    "        return\n",
    "    node.visited = True\n",
    "    print(\"node.value\", node.value)\n",
    "    for neighbor in node.neightbors:\n",
    "        \n",
    "        if not neighbor.visited:\n",
    "            dfs(neighbor)  \n"
   ]
  },
  {
   "cell_type": "code",
   "execution_count": 2,
   "metadata": {},
   "outputs": [],
   "source": [
    "class Node:\n",
    "    def __init__(self, value, neightbors=[]):\n",
    "        self.value = value\n",
    "        self.neightbors = neightbors\n",
    "        self.visited = False"
   ]
  },
  {
   "cell_type": "code",
   "execution_count": 3,
   "metadata": {},
   "outputs": [
    {
     "name": "stdout",
     "output_type": "stream",
     "text": [
      "node.value 0\n",
      "node.value 1\n",
      "node.value 3\n",
      "node.value 2\n",
      "node.value 4\n",
      "node.value 5\n"
     ]
    }
   ],
   "source": [
    "node0 = Node(0)\n",
    "node1 = Node(1)\n",
    "node2 = Node(2)\n",
    "node3 = Node(3)\n",
    "node4 = Node(4)\n",
    "node5 = Node(5)\n",
    "\n",
    "node0.neightbors = [node1, node4, node5]\n",
    "node1.neightbors = [node3, node4]\n",
    "node2.neightbors = [node1]\n",
    "node3.neightbors = [node2, node4]\n",
    "\n",
    "dfs(node0)"
   ]
  }
 ],
 "metadata": {
  "kernelspec": {
   "display_name": "Python 3",
   "language": "python",
   "name": "python3"
  },
  "language_info": {
   "codemirror_mode": {
    "name": "ipython",
    "version": 3
   },
   "file_extension": ".py",
   "mimetype": "text/x-python",
   "name": "python",
   "nbconvert_exporter": "python",
   "pygments_lexer": "ipython3",
   "version": "3.7.1"
  }
 },
 "nbformat": 4,
 "nbformat_minor": 2
}
