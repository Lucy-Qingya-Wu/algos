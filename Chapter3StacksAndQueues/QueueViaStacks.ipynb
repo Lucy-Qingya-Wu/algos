{
 "cells": [
  {
   "cell_type": "code",
   "execution_count": 1,
   "metadata": {},
   "outputs": [],
   "source": [
    "class Stack:\n",
    "    def __init__(self):\n",
    "        self.list = []\n",
    "        \n",
    "    \n",
    "    def push(self, element):\n",
    "        self.list.append(element)\n",
    "    \n",
    "    def pop(self):\n",
    "        if self.isEmpty():\n",
    "            raise Exception(\"stack is empty\")\n",
    "        return self.list.pop()\n",
    "    \n",
    "    def isEmpty(self):\n",
    "        return len(self.list) == 0\n",
    "    \n",
    "    def peek(self):\n",
    "        if self.isEmpty():\n",
    "            return None\n",
    "        else:\n",
    "            return self.list[-1]\n",
    "    \n",
    "    def size(self):\n",
    "        return len(self.list)\n",
    "    \n",
    "    def print_stack(self):\n",
    "        print(self.list)"
   ]
  },
  {
   "cell_type": "code",
   "execution_count": 7,
   "metadata": {},
   "outputs": [],
   "source": [
    "class MyQueue:\n",
    "    def __init__(self):\n",
    "        self.s1 = Stack()\n",
    "        self.s2 = Stack()\n",
    "        \n",
    "    def enqueue(self, data):\n",
    "        self.s1.push(data)\n",
    "        \n",
    "    def shift(self):\n",
    "        if self.s2.isEmpty():\n",
    "            while not self.s1.isEmpty():\n",
    "                self.s2.push(self.s1.pop())\n",
    "                \n",
    "    def dequeue(self):\n",
    "        self.shift()\n",
    "        return self.s2.pop()\n",
    "    \n",
    "    def size(self):\n",
    "        return self.s1.size() + self.s2.size()\n",
    "    \n",
    "    def peek(self):\n",
    "        self.shift()\n",
    "        return self.s2.peek()"
   ]
  },
  {
   "cell_type": "code",
   "execution_count": 12,
   "metadata": {},
   "outputs": [
    {
     "name": "stdout",
     "output_type": "stream",
     "text": [
      "3\n",
      "2\n",
      "5\n",
      "7\n",
      "7\n",
      "7\n",
      "5\n"
     ]
    }
   ],
   "source": [
    "q = MyQueue()\n",
    "q.enqueue(2)\n",
    "q.enqueue(5)\n",
    "q.enqueue(7)\n",
    "print(q.size())\n",
    "print(q.dequeue())\n",
    "print(q.dequeue())\n",
    "print(q.dequeue())\n",
    "q.enqueue(7)\n",
    "q.enqueue(5)\n",
    "print(q.peek())\n",
    "print(q.dequeue())\n",
    "print(q.peek())"
   ]
  }
 ],
 "metadata": {
  "kernelspec": {
   "display_name": "Python 3",
   "language": "python",
   "name": "python3"
  },
  "language_info": {
   "codemirror_mode": {
    "name": "ipython",
    "version": 3
   },
   "file_extension": ".py",
   "mimetype": "text/x-python",
   "name": "python",
   "nbconvert_exporter": "python",
   "pygments_lexer": "ipython3",
   "version": "3.7.1"
  }
 },
 "nbformat": 4,
 "nbformat_minor": 2
}
