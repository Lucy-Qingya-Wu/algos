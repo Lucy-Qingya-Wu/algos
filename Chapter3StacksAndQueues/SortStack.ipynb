{
 "cells": [
  {
   "cell_type": "code",
   "execution_count": 1,
   "metadata": {},
   "outputs": [],
   "source": [
    "from random import randint"
   ]
  },
  {
   "cell_type": "code",
   "execution_count": 19,
   "metadata": {},
   "outputs": [],
   "source": [
    "class Stack:\n",
    "    def __init__(self):\n",
    "        self.list = []\n",
    "        \n",
    "    \n",
    "    def push(self, element):\n",
    "        self.list.append(element)\n",
    "    \n",
    "    def pop(self):\n",
    "        if self.isEmpty():\n",
    "            raise Exception(\"stack is empty\")\n",
    "        return self.list.pop()\n",
    "    \n",
    "    def isEmpty(self):\n",
    "        return len(self.list) == 0\n",
    "    \n",
    "    def peek(self):\n",
    "        if self.isEmpty():\n",
    "            return None\n",
    "        else:\n",
    "            return self.list[-1]\n",
    "    \n",
    "    def size(self):\n",
    "        return len(self.list)\n",
    "    \n",
    "    def print_stack(self):\n",
    "        print(self.list)"
   ]
  },
  {
   "cell_type": "code",
   "execution_count": null,
   "metadata": {},
   "outputs": [],
   "source": [
    "#solution one\n",
    "#running time: O(n^2), space complexity: O(n)\n",
    "def sortStack(s1, s2):\n",
    "    total_number_of_elements = s1.size()\n",
    "    i = total_number_of_elements\n",
    "    \n",
    "    while i > 0:\n",
    "        j = i\n",
    "        \n",
    "        largest = None\n",
    "        while j > 0:\n",
    "            \n",
    "            element = s1.pop()\n",
    "#             print(\"element\", element)\n",
    "            if largest is None:\n",
    "                \n",
    "                largest = element\n",
    "                \n",
    "            else:\n",
    "                if element > largest: \n",
    "                    s2.push(largest)\n",
    "                    largest = element\n",
    "                else:\n",
    "                    s2.push(element)\n",
    "            j -= 1\n",
    "        \n",
    "        \n",
    "#         print(\"largest: \", largest)\n",
    "#         print(\"stack2 list\", s2.list) \n",
    "        s1.push(largest)\n",
    "        \n",
    "        while not s2.isEmpty():\n",
    "            s1.push(s2.pop())\n",
    "        \n",
    "#         print(\"stack1 list\", s1.list) \n",
    "        \n",
    "        i -= 1\n"
   ]
  },
  {
   "cell_type": "code",
   "execution_count": null,
   "metadata": {},
   "outputs": [],
   "source": [
    "s1 = Stack()\n",
    "s2 = Stack()\n",
    "\n",
    "s1.list = [5, 0, 2, 1, 2, 5, 9, 6, 2, 5]\n",
    "\n",
    "sortStack(s1, s2)\n",
    "print(\"s1.list\", s1.list) "
   ]
  },
  {
   "cell_type": "code",
   "execution_count": 22,
   "metadata": {},
   "outputs": [
    {
     "name": "stdout",
     "output_type": "stream",
     "text": [
      "s1.list [9, 6, 5, 5, 5, 2, 2, 2, 1, 0]\n"
     ]
    }
   ],
   "source": [
    "#solution two, a little bit better, assume you dont know the length of the stack\n",
    "#but still has running time: O(n^2), space complexity: O(n)\n",
    "\n",
    "def sortStack(s1, s2):\n",
    "    \n",
    "    while not s1.isEmpty():\n",
    "        element = s1.pop()\n",
    "        \n",
    "        if not s2.isEmpty():\n",
    "          \n",
    "            s2_top = s2.peek()\n",
    "            while s2_top is not None and s2_top > element:\n",
    "                s1.push(s2.pop())\n",
    "                s2_top = s2.peek()\n",
    "        \n",
    "        s2.push(element)\n",
    "    \n",
    "    while not s2.isEmpty():\n",
    "        s1.push(s2.pop())\n",
    "    \n",
    "\n",
    "s1 = Stack()\n",
    "s2 = Stack()\n",
    "\n",
    "s1.list = [5, 0, 2, 1, 2, 5, 9, 6, 2, 5]\n",
    "\n",
    "sortStack(s1, s2)\n",
    "print(\"s1.list\", s1.list)        \n",
    "        \n",
    "        \n",
    "        \n"
   ]
  }
 ],
 "metadata": {
  "kernelspec": {
   "display_name": "Python 3",
   "language": "python",
   "name": "python3"
  },
  "language_info": {
   "codemirror_mode": {
    "name": "ipython",
    "version": 3
   },
   "file_extension": ".py",
   "mimetype": "text/x-python",
   "name": "python",
   "nbconvert_exporter": "python",
   "pygments_lexer": "ipython3",
   "version": "3.7.1"
  }
 },
 "nbformat": 4,
 "nbformat_minor": 2
}
